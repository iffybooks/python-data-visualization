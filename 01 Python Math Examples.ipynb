{
 "cells": [
  {
   "cell_type": "markdown",
   "id": "b5651286",
   "metadata": {},
   "source": [
    "# Python Math Examples\n",
    "\n",
    "You can find example datasets here:\n",
    "https://vincentarelbundock.github.io/Rdatasets/datasets.html"
   ]
  },
  {
   "cell_type": "code",
   "execution_count": null,
   "id": "920a5d0c",
   "metadata": {},
   "outputs": [],
   "source": [
    "# Create a variable\n",
    "\n",
    "apples = 19\n",
    "\n",
    "print(apples)"
   ]
  },
  {
   "cell_type": "code",
   "execution_count": null,
   "id": "7731e1ab",
   "metadata": {},
   "outputs": [],
   "source": [
    "# Add numbers using variables\n",
    "\n",
    "oranges = 12\n",
    "\n",
    "total_fruit = apples + oranges\n",
    "\n",
    "print(total_fruit)"
   ]
  },
  {
   "cell_type": "code",
   "execution_count": null,
   "id": "c6135973",
   "metadata": {},
   "outputs": [],
   "source": [
    "# Multiply three numbers\n",
    "\n",
    "minutes_per_hour = 60\n",
    "\n",
    "hours_per_day = 24\n",
    "\n",
    "days_per_year = 365\n",
    "\n",
    "minutes_per_year = hours_per_day * days_per_year * minutes_per_hour\n",
    "\n",
    "print(minutes_per_year)"
   ]
  },
  {
   "cell_type": "code",
   "execution_count": null,
   "id": "d6d85999",
   "metadata": {},
   "outputs": [],
   "source": [
    "# Divide\n",
    "\n",
    "dollars_from_gig = 155\n",
    "band_members = 4\n",
    "\n",
    "dollars_per_person = dollars_from_gig/band_members\n",
    "\n",
    "print(dollars_per_person)"
   ]
  },
  {
   "cell_type": "code",
   "execution_count": null,
   "id": "9adbbfcb",
   "metadata": {},
   "outputs": [],
   "source": [
    "# Exponent\n",
    "\n",
    "length_inches = 21\n",
    "\n",
    "area_square_inches = length_inches ** 2\n",
    "\n",
    "print(area_square_inches)"
   ]
  },
  {
   "cell_type": "code",
   "execution_count": null,
   "id": "07a6ca6c",
   "metadata": {},
   "outputs": [],
   "source": [
    "# Make a list and print it using a for loop\n",
    "\n",
    "prime_numbers = [2, 3, 5, 7, 11, 13, 17]\n",
    "\n",
    "for number in prime_numbers:\n",
    "    print(number)"
   ]
  },
  {
   "cell_type": "code",
   "execution_count": null,
   "id": "95859643",
   "metadata": {},
   "outputs": [],
   "source": [
    "# Print the square of each number in a list\n",
    "\n",
    "for number in prime_numbers:\n",
    "    print(number**2)"
   ]
  },
  {
   "cell_type": "code",
   "execution_count": null,
   "id": "ae11c141",
   "metadata": {},
   "outputs": [],
   "source": [
    "# Make a new list and store the square of each number in the previous list\n",
    "\n",
    "prime_squares = []\n",
    "\n",
    "for number in prime_numbers:\n",
    "    prime_squares.append(number**2)\n",
    "\n",
    "print(prime_squares)"
   ]
  },
  {
   "cell_type": "code",
   "execution_count": null,
   "id": "dc952fe9",
   "metadata": {},
   "outputs": [],
   "source": [
    "## Cast a string to an integer\n",
    "\n",
    "cabbages = \"27\"\n",
    "\n",
    "# Print string\n",
    "print(cabbages)\n",
    "\n",
    "# Print float\n",
    "print(int(cabbages) + 20)"
   ]
  },
  {
   "cell_type": "code",
   "execution_count": null,
   "id": "f4674e2e",
   "metadata": {},
   "outputs": [],
   "source": [
    "## Cast a string to a float\n",
    "\n",
    "temperature = \"98.6\"\n",
    "\n",
    "# Print string\n",
    "print(temperature)\n",
    "\n",
    "# Print float\n",
    "print(float(temperature) + 1.3)"
   ]
  },
  {
   "cell_type": "code",
   "execution_count": null,
   "id": "111bb854",
   "metadata": {},
   "outputs": [],
   "source": []
  }
 ],
 "metadata": {
  "kernelspec": {
   "display_name": "Python 3 (ipykernel)",
   "language": "python",
   "name": "python3"
  },
  "language_info": {
   "codemirror_mode": {
    "name": "ipython",
    "version": 3
   },
   "file_extension": ".py",
   "mimetype": "text/x-python",
   "name": "python",
   "nbconvert_exporter": "python",
   "pygments_lexer": "ipython3",
   "version": "3.9.18"
  }
 },
 "nbformat": 4,
 "nbformat_minor": 5
}
