{
 "cells": [
  {
   "cell_type": "markdown",
   "id": "947d0568",
   "metadata": {},
   "source": [
    "# Audio Waveform Plot"
   ]
  },
  {
   "cell_type": "code",
   "execution_count": null,
   "id": "a7e6da6f",
   "metadata": {},
   "outputs": [],
   "source": [
    "## Install LibRosa package\n",
    "#!python3 -m pip install librosa"
   ]
  },
  {
   "cell_type": "code",
   "execution_count": null,
   "id": "14dbe5b3",
   "metadata": {},
   "outputs": [],
   "source": [
    "import numpy as np\n",
    "import matplotlib.pyplot as plt\n",
    "import librosa as lr\n",
    "import random\n",
    "\n",
    "audio_path='Steve_Mattie_1sec.wav'\n",
    "sample_list, sample_rate = lr.load(audio_path)\n",
    "\n",
    "print(\"Sample rate:\")\n",
    "print(sample_rate)"
   ]
  },
  {
   "cell_type": "code",
   "execution_count": null,
   "id": "ed7ef33a",
   "metadata": {},
   "outputs": [],
   "source": [
    "## View a random sample\n",
    "\n",
    "sample_list = random.sample(list(sample_list), 25)"
   ]
  },
  {
   "cell_type": "code",
   "execution_count": null,
   "id": "67e3450c",
   "metadata": {},
   "outputs": [],
   "source": [
    "# View minimum and maximum samples\n",
    "print(max(sample_list))\n",
    "print(min(sample_list))"
   ]
  },
  {
   "cell_type": "code",
   "execution_count": null,
   "id": "e8a623f7",
   "metadata": {},
   "outputs": [],
   "source": [
    "## Create tick labels using seconds (rather than the sample index)\n",
    "\n",
    "#tick_locations = []\n",
    "#tick_text = []\n",
    "\n",
    "#for i in range(11):\n",
    "#    tick_locations.append(int((sample_rate/10)*i))\n",
    "#    tick_text.append(str(i/10))"
   ]
  },
  {
   "cell_type": "code",
   "execution_count": null,
   "id": "191146f5",
   "metadata": {},
   "outputs": [],
   "source": [
    "## Set style and size\n",
    "plt.style.use('ggplot')\n",
    "plt.figure(figsize=(18,10))\n",
    "\n",
    "## Plot dataset\n",
    "plt.plot(sample_list)\n",
    "\n",
    "## Set ticks\n",
    "#plt.xticks(tick_locations, tick_text)\n",
    "\n",
    "## Set title and labels\n",
    "plt.title(\"Speech Audio Waveform\")\n",
    "plt.xlabel('Time (seconds)')\n",
    "plt.ylabel('Sound Pressure Level')\n",
    "\n",
    "\n",
    "## Generate plot\n",
    "plt.show()"
   ]
  },
  {
   "cell_type": "code",
   "execution_count": null,
   "id": "510fb2ed",
   "metadata": {},
   "outputs": [],
   "source": []
  }
 ],
 "metadata": {
  "kernelspec": {
   "display_name": "Python 3 (ipykernel)",
   "language": "python",
   "name": "python3"
  },
  "language_info": {
   "codemirror_mode": {
    "name": "ipython",
    "version": 3
   },
   "file_extension": ".py",
   "mimetype": "text/x-python",
   "name": "python",
   "nbconvert_exporter": "python",
   "pygments_lexer": "ipython3",
   "version": "3.9.18"
  }
 },
 "nbformat": 4,
 "nbformat_minor": 5
}
