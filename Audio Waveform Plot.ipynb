{
 "cells": [
  {
   "cell_type": "code",
   "execution_count": null,
   "id": "a7e6da6f",
   "metadata": {},
   "outputs": [],
   "source": [
    "#!python3 -m pip install librosa"
   ]
  },
  {
   "cell_type": "code",
   "execution_count": null,
   "id": "14dbe5b3",
   "metadata": {},
   "outputs": [],
   "source": [
    "import numpy as np\n",
    "import matplotlib.pyplot as plt\n",
    "#from scipy import pi\n",
    "#from scipy.fftpack import fft\n",
    "import librosa as lr\n",
    "#import librosa.display\n",
    "\n",
    "audio_path='Steve_Mattie_1sec.wav'\n",
    "y, sr = lr.load(audio_path)\n",
    "signalAmplitude   = np.sin(y)\n",
    "\n",
    "print(\"Sample rate:\")\n",
    "print(sr)"
   ]
  },
  {
   "cell_type": "code",
   "execution_count": null,
   "id": "ed7ef33a",
   "metadata": {},
   "outputs": [],
   "source": [
    "import random\n",
    "random.choice(y)"
   ]
  },
  {
   "cell_type": "code",
   "execution_count": null,
   "id": "67e3450c",
   "metadata": {},
   "outputs": [],
   "source": [
    "print(max(y))\n",
    "print(min(y))"
   ]
  },
  {
   "cell_type": "code",
   "execution_count": null,
   "id": "e8a623f7",
   "metadata": {},
   "outputs": [],
   "source": [
    "tick_locations = []\n",
    "tick_text = []\n",
    "\n",
    "for i in range(11):\n",
    "    tick_locations.append(int((sr/10)*i))\n",
    "    tick_text.append(str(i/10))"
   ]
  },
  {
   "cell_type": "code",
   "execution_count": null,
   "id": "191146f5",
   "metadata": {},
   "outputs": [],
   "source": [
    "\n",
    "plt.style.use('ggplot')\n",
    "plt.figure(figsize=(18,8))\n",
    "plt.xticks(tick_locations, tick_text)\n",
    "plt.title(\"Speech Audio Waveform\")\n",
    "plt.plot(y)\n",
    "plt.xlabel('Time (seconds)')\n",
    "plt.ylabel('Sound Pressure Level')\n",
    "\n",
    "plt.show()"
   ]
  },
  {
   "cell_type": "code",
   "execution_count": null,
   "id": "510fb2ed",
   "metadata": {},
   "outputs": [],
   "source": []
  }
 ],
 "metadata": {
  "kernelspec": {
   "display_name": "Python 3 (ipykernel)",
   "language": "python",
   "name": "python3"
  },
  "language_info": {
   "codemirror_mode": {
    "name": "ipython",
    "version": 3
   },
   "file_extension": ".py",
   "mimetype": "text/x-python",
   "name": "python",
   "nbconvert_exporter": "python",
   "pygments_lexer": "ipython3",
   "version": "3.9.16"
  }
 },
 "nbformat": 4,
 "nbformat_minor": 5
}
