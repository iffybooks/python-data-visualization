{
 "cells": [
  {
   "cell_type": "markdown",
   "id": "b5651286",
   "metadata": {},
   "source": [
    "# Python Math Examples\n",
    "\n",
    "You can find example datasets here:\n",
    "https://vincentarelbundock.github.io/Rdatasets/datasets.html"
   ]
  },
  {
   "cell_type": "code",
   "execution_count": 1,
   "id": "920a5d0c",
   "metadata": {},
   "outputs": [
    {
     "name": "stdout",
     "output_type": "stream",
     "text": [
      "19\n"
     ]
    }
   ],
   "source": [
    "# Create a variable\n",
    "\n",
    "apples = 19\n",
    "\n",
    "print(apples)"
   ]
  },
  {
   "cell_type": "code",
   "execution_count": 2,
   "id": "7731e1ab",
   "metadata": {},
   "outputs": [
    {
     "name": "stdout",
     "output_type": "stream",
     "text": [
      "31\n"
     ]
    }
   ],
   "source": [
    "# Add numbers using variables\n",
    "\n",
    "oranges = 12\n",
    "\n",
    "total_fruit = apples + oranges\n",
    "\n",
    "print(total_fruit)"
   ]
  },
  {
   "cell_type": "code",
   "execution_count": 3,
   "id": "c6135973",
   "metadata": {},
   "outputs": [
    {
     "name": "stdout",
     "output_type": "stream",
     "text": [
      "525600\n"
     ]
    }
   ],
   "source": [
    "# Multiply three numbers\n",
    "\n",
    "minutes_per_hour = 60\n",
    "\n",
    "hours_per_day = 24\n",
    "\n",
    "days_per_year = 365\n",
    "\n",
    "minutes_per_year = hours_per_day * days_per_year * minutes_per_hour\n",
    "\n",
    "print(minutes_per_year)"
   ]
  },
  {
   "cell_type": "code",
   "execution_count": 4,
   "id": "d6d85999",
   "metadata": {},
   "outputs": [
    {
     "name": "stdout",
     "output_type": "stream",
     "text": [
      "38.75\n"
     ]
    }
   ],
   "source": [
    "# Divide\n",
    "\n",
    "dollars_from_gig = 155\n",
    "band_members = 4\n",
    "\n",
    "dollars_per_person = dollars_from_gig/band_members\n",
    "\n",
    "print(dollars_per_person)"
   ]
  },
  {
   "cell_type": "code",
   "execution_count": 5,
   "id": "9adbbfcb",
   "metadata": {},
   "outputs": [
    {
     "name": "stdout",
     "output_type": "stream",
     "text": [
      "441\n"
     ]
    }
   ],
   "source": [
    "# Exponent\n",
    "\n",
    "length_inches = 21\n",
    "\n",
    "area_square_inches = length_inches ** 2\n",
    "\n",
    "print(area_square_inches)"
   ]
  },
  {
   "cell_type": "code",
   "execution_count": 6,
   "id": "07a6ca6c",
   "metadata": {},
   "outputs": [
    {
     "name": "stdout",
     "output_type": "stream",
     "text": [
      "2\n",
      "3\n",
      "5\n",
      "7\n",
      "11\n",
      "13\n",
      "17\n"
     ]
    }
   ],
   "source": [
    "# Make a list and print it using a for loop\n",
    "\n",
    "prime_numbers = [2, 3, 5, 7, 11, 13, 17]\n",
    "\n",
    "for number in prime_numbers:\n",
    "    print(number)"
   ]
  },
  {
   "cell_type": "code",
   "execution_count": 7,
   "id": "95859643",
   "metadata": {},
   "outputs": [
    {
     "name": "stdout",
     "output_type": "stream",
     "text": [
      "4\n",
      "9\n",
      "25\n",
      "49\n",
      "121\n",
      "169\n",
      "289\n"
     ]
    }
   ],
   "source": [
    "# Print the square of each number in a list\n",
    "\n",
    "for number in prime_numbers:\n",
    "    print(number**2)"
   ]
  },
  {
   "cell_type": "code",
   "execution_count": 8,
   "id": "ae11c141",
   "metadata": {},
   "outputs": [
    {
     "name": "stdout",
     "output_type": "stream",
     "text": [
      "[4, 9, 25, 49, 121, 169, 289]\n"
     ]
    }
   ],
   "source": [
    "# Make a new list and store the square of each number in the previous list\n",
    "\n",
    "prime_squares = []\n",
    "\n",
    "for number in prime_numbers:\n",
    "    prime_squares.append(number**2)\n",
    "\n",
    "print(prime_squares)"
   ]
  },
  {
   "cell_type": "code",
   "execution_count": null,
   "id": "f4674e2e",
   "metadata": {},
   "outputs": [],
   "source": []
  }
 ],
 "metadata": {
  "kernelspec": {
   "display_name": "Python 3 (ipykernel)",
   "language": "python",
   "name": "python3"
  },
  "language_info": {
   "codemirror_mode": {
    "name": "ipython",
    "version": 3
   },
   "file_extension": ".py",
   "mimetype": "text/x-python",
   "name": "python",
   "nbconvert_exporter": "python",
   "pygments_lexer": "ipython3",
   "version": "3.9.16"
  }
 },
 "nbformat": 4,
 "nbformat_minor": 5
}
