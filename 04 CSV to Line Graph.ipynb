{
 "cells": [
  {
   "cell_type": "markdown",
   "id": "839f0bce",
   "metadata": {},
   "source": [
    "# CSV Data to Line Graph\n",
    "\n",
    "Data source:\n",
    "https://gml.noaa.gov/ccgg/trends/data.html"
   ]
  },
  {
   "cell_type": "code",
   "execution_count": null,
   "id": "797e4d2a",
   "metadata": {},
   "outputs": [],
   "source": [
    "import csv\n",
    "\n",
    "co2_lol = []\n",
    "\n",
    "with open(\"Mauna_Loa_CO2.csv\") as fi:\n",
    "    csv_reader = csv.reader(fi)\n",
    "    for row in csv_reader:\n",
    "        co2_lol.append(row)\n",
    "\n",
    "# View header row\n",
    "header_row = co2_lol[0]\n",
    "print(header_row)\n",
    "\n",
    "# Remove header row\n",
    "co2_lol = co2_lol[1:]"
   ]
  },
  {
   "cell_type": "code",
   "execution_count": null,
   "id": "080f9e7d",
   "metadata": {},
   "outputs": [],
   "source": [
    "## View the first 10 rows in the dataset\n",
    "co2_lol[:10]"
   ]
  },
  {
   "cell_type": "code",
   "execution_count": null,
   "id": "a63c317e",
   "metadata": {},
   "outputs": [],
   "source": [
    "## Make a list of values to plot using a list comprehension\n",
    "\n",
    "co2_ppm_list = [float(row[1]) for row in co2_lol]\n",
    "\n",
    "co2_ppm_list"
   ]
  },
  {
   "cell_type": "code",
   "execution_count": null,
   "id": "5db2227e",
   "metadata": {},
   "outputs": [],
   "source": [
    "## Make a plot (with non-ideal x-axis labels)\n",
    "\n",
    "import matplotlib.pyplot as plt\n",
    "\n",
    "## Set plot size and style\n",
    "plt.figure(figsize=(18,8))\n",
    "plt.style.use('ggplot')\n",
    "\n",
    "## Plot dataset\n",
    "plt.plot(co2_ppm_list)\n",
    "\n",
    "## Set title and labels\n",
    "plt.title(\"CO2 Concentrations from Mauna Loa Observatory\")\n",
    "plt.xlabel(\"Year\")\n",
    "plt.ylabel(\"CO2 concentration (ppm)\")\n"
   ]
  },
  {
   "cell_type": "code",
   "execution_count": null,
   "id": "9142455e",
   "metadata": {},
   "outputs": [],
   "source": [
    "import matplotlib.pyplot as plt\n",
    "\n",
    "## Set plot size and style\n",
    "plt.figure(figsize=(18,8))\n",
    "plt.style.use('ggplot')\n",
    "\n",
    "## Plot dataset\n",
    "plt.plot(co2_ppm_list)\n",
    "\n",
    "## Set title and labels\n",
    "plt.title(\"CO2 Concentrations from Mauna Loa Observatory\")\n",
    "plt.xlabel(\"Year\")\n",
    "plt.ylabel(\"CO2 concentration (ppm)\")\n",
    "\n",
    "## Set location on plot for each tick label\n",
    "x_tick_locations = range(len(co2_ppm_list))\n",
    "\n",
    "## Make a list of tick labels with decade years only\n",
    "x_ticks = []\n",
    "\n",
    "for year in range(1959,2023):\n",
    "    if year%10==0:\n",
    "        x_ticks.append(str(year))\n",
    "    else:\n",
    "        x_ticks.append(\"\")\n",
    "\n",
    "## Set x-axis tick labels\n",
    "plt.xticks(x_tick_locations, x_ticks)\n",
    "\n",
    "## Generate plot\n",
    "plt.show()"
   ]
  },
  {
   "cell_type": "code",
   "execution_count": null,
   "id": "a7825e2b",
   "metadata": {},
   "outputs": [],
   "source": []
  },
  {
   "cell_type": "code",
   "execution_count": null,
   "id": "dfe3930d",
   "metadata": {},
   "outputs": [],
   "source": []
  }
 ],
 "metadata": {
  "kernelspec": {
   "display_name": "Python 3 (ipykernel)",
   "language": "python",
   "name": "python3"
  },
  "language_info": {
   "codemirror_mode": {
    "name": "ipython",
    "version": 3
   },
   "file_extension": ".py",
   "mimetype": "text/x-python",
   "name": "python",
   "nbconvert_exporter": "python",
   "pygments_lexer": "ipython3",
   "version": "3.9.16"
  }
 },
 "nbformat": 4,
 "nbformat_minor": 5
}
