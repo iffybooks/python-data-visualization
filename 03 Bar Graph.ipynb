{
 "cells": [
  {
   "cell_type": "markdown",
   "id": "dab5e4b3",
   "metadata": {},
   "source": [
    "# Make a Bar Graph"
   ]
  },
  {
   "cell_type": "code",
   "execution_count": null,
   "id": "9bc077ea",
   "metadata": {},
   "outputs": [],
   "source": [
    "from urllib.request import urlopen\n",
    "import csv\n",
    "import numpy as np\n",
    "import matplotlib.pyplot as plt\n",
    "%matplotlib inline\n",
    "\n",
    "# CO2 data from the Global Carbon Project, via Wikipedia:\n",
    "# https://en.wikipedia.org/wiki/List_of_countries_by_carbon_dioxide_emissions_per_capita"
   ]
  },
  {
   "cell_type": "code",
   "execution_count": null,
   "id": "9a2ee34d",
   "metadata": {},
   "outputs": [],
   "source": [
    "## Plotting bar graph with labels\n",
    "\n",
    "## Set plot size\n",
    "plt.figure(figsize=(15,7))\n",
    "\n",
    "## Set plot style\n",
    "plt.style.use('tableau-colorblind10')\n",
    "\n",
    "## Data to visualize (CO2 emissions in metric tons)\n",
    "y_values = [17.75, 15.82, 12.5, 11.06, 9.59, 8.96, 8.46, 6.27, 1.67]\n",
    "\n",
    "## Set labels for x-axis\n",
    "x_position = range(len(y_values))\n",
    "x_labels = [\"United States\", \"Canada\", \"South Korea\", \"Japan\", \"Russia\", \"Netherlands\", \"United Kingdom\", \"China\", \"India\"]          \n",
    "\n",
    "plt.xticks(x_position, x_labels)\n",
    "\n",
    "## Plot the bar graph\n",
    "plt.bar(x_position, y_values, alpha=0.6)\n",
    "\n",
    "## Set the title and y-axis label\n",
    "plt.title('CO2 emissions per capita (consumption) in 2016')\n",
    "plt.ylabel('Metric tons of CO2')\n",
    "\n",
    "plt.show()\n"
   ]
  },
  {
   "cell_type": "code",
   "execution_count": null,
   "id": "dfc0ed92",
   "metadata": {},
   "outputs": [],
   "source": [
    "# View available styles\n",
    "\n",
    "for style in plt.style.available:\n",
    "    print(style)"
   ]
  },
  {
   "cell_type": "code",
   "execution_count": null,
   "id": "7fe161dd",
   "metadata": {},
   "outputs": [],
   "source": [
    "list(range(len(x_values)))"
   ]
  },
  {
   "cell_type": "code",
   "execution_count": null,
   "id": "9e2d2279",
   "metadata": {},
   "outputs": [],
   "source": []
  }
 ],
 "metadata": {
  "kernelspec": {
   "display_name": "Python 3 (ipykernel)",
   "language": "python",
   "name": "python3"
  },
  "language_info": {
   "codemirror_mode": {
    "name": "ipython",
    "version": 3
   },
   "file_extension": ".py",
   "mimetype": "text/x-python",
   "name": "python",
   "nbconvert_exporter": "python",
   "pygments_lexer": "ipython3",
   "version": "3.9.18"
  }
 },
 "nbformat": 4,
 "nbformat_minor": 5
}
