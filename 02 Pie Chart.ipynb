{
 "cells": [
  {
   "cell_type": "markdown",
   "id": "528174f3",
   "metadata": {},
   "source": [
    "# Make a Pie Chart "
   ]
  },
  {
   "cell_type": "code",
   "execution_count": null,
   "id": "fed4fd21",
   "metadata": {},
   "outputs": [],
   "source": [
    "#Sources: \n",
    "#https://www.epa.gov/ghgemissions/global-greenhouse-gas-emissions-data\n",
    "#https://www.ipcc.ch/report/ar5/wg3/\n",
    "\n",
    "import matplotlib.pyplot as plt\n",
    "%matplotlib inline"
   ]
  },
  {
   "cell_type": "code",
   "execution_count": null,
   "id": "be049125",
   "metadata": {},
   "outputs": [],
   "source": [
    "## List of numbers, each representing the size of a different category\n",
    "size_list = [0.25, 0.24, 0.21, 0.14, 0.10, 0.6]\n",
    "\n",
    "## List of labels corresponding in order with the size list above\n",
    "label_list = [\"Electricity and Heat Production\", \"Agriculture, Forestry and Other Land Use\", \"Industry\", \"Transportation\", \"Other Energy\", \"Buildings\"]\n",
    "\n",
    "## Colors corresponding in order with the lists above\n",
    "# List of color names: https://stackoverflow.com/questions/22408237/named-colors-in-matplotlib\n",
    "color_list = ['darksalmon', 'yellowgreen', 'lightcoral', 'lightskyblue', 'thistle', 'orange']\n"
   ]
  },
  {
   "cell_type": "code",
   "execution_count": null,
   "id": "e16ee099",
   "metadata": {},
   "outputs": [],
   "source": [
    "## Set plot style\n",
    "#plt.style.use('ggplot')\n",
    "\n",
    "## Set plot size\n",
    "plt.figure(figsize=(8,8))\n",
    "\n",
    "## Plot Data\n",
    "plt.pie(size_list, labels=label_list, colors=color_list, autopct='%1.1f%%', shadow=True, startangle=30) \n",
    "\n",
    "## Set title\n",
    "plt.title(\"Total Greenhouse Gas Emissions by Economic Sector\")\n",
    "\n",
    "plt.show()"
   ]
  },
  {
   "cell_type": "code",
   "execution_count": null,
   "id": "ef0041e9",
   "metadata": {},
   "outputs": [],
   "source": []
  },
  {
   "cell_type": "code",
   "execution_count": null,
   "id": "25092d2a",
   "metadata": {},
   "outputs": [],
   "source": []
  },
  {
   "cell_type": "code",
   "execution_count": null,
   "id": "9931a6e1",
   "metadata": {},
   "outputs": [],
   "source": []
  }
 ],
 "metadata": {
  "kernelspec": {
   "display_name": "Python 3 (ipykernel)",
   "language": "python",
   "name": "python3"
  },
  "language_info": {
   "codemirror_mode": {
    "name": "ipython",
    "version": 3
   },
   "file_extension": ".py",
   "mimetype": "text/x-python",
   "name": "python",
   "nbconvert_exporter": "python",
   "pygments_lexer": "ipython3",
   "version": "3.9.18"
  }
 },
 "nbformat": 4,
 "nbformat_minor": 5
}
